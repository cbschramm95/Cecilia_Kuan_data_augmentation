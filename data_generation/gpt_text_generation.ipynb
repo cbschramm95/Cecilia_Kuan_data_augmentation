{
 "cells": [
  {
   "attachments": {},
   "cell_type": "markdown",
   "metadata": {},
   "source": [
    "# DATA GENERATION USING ChatGPT API"
   ]
  },
  {
   "attachments": {},
   "cell_type": "markdown",
   "metadata": {},
   "source": [
    "Install or update the OpenAI Python library first"
   ]
  },
  {
   "cell_type": "code",
   "execution_count": 2,
   "metadata": {},
   "outputs": [],
   "source": [
    "# update or install the necessary libraries\n",
    "# !pip install --upgrade openai\n",
    "# !pip install --upgrade python-dotenv"
   ]
  },
  {
   "cell_type": "code",
   "execution_count": 2,
   "metadata": {},
   "outputs": [],
   "source": [
    "import csv\n",
    "import openai\n",
    "import os\n",
    "import IPython\n",
    "from dotenv import load_dotenv\n",
    "load_dotenv()\n"
   ]
  },
  {
   "attachments": {},
   "cell_type": "markdown",
   "metadata": {},
   "source": [
    "## SYNTHETIC DATA GENERATION - USING PROFILES FROM .csv ##"
   ]
  },
  {
   "cell_type": "code",
   "execution_count": 21,
   "metadata": {},
   "outputs": [
    {
     "name": "stdout",
     "output_type": "stream",
     "text": [
      "1|Patiënt kan bijna volledig werken met lichte beperkingen. |0.8|d840-d859|3|ergotherapeut|man/vrouw|18-64|ergotherapie\n",
      "2|Lichte beperkingen hebben weinig effect op de mogelijkheid van de patiënt om te studeren. |0.9|d840-d859|3|ergotherapeut|man/vrouw|18-64|ergotherapie\n",
      "3|Patiënt ervaart enige moeilijkheid bij het voltooien van complexe taken. |0.7|d840-d859|3|ergotherapeut|man/vrouw|18-64|ergotherapie\n",
      "4|Patiënt heeft enige moeite met het opnemen van nieuwe informatie tijdens het leren. |0.6|d840-d859|3|ergotherapeut|man/vrouw|18-64|ergotherapie\n",
      "5|De patiënt heeft enige moeite met het onthouden van belangrijke informatie. |0.8|d840-d859|3|ergotherapeut|man/vrouw|18-64|ergotherapie\n",
      "6|Patiënt heeft lichte problemen met het uitvoeren van zijn/haar werk of studieopdrachten binnen de gestelde tijdslimiet. |0.7|d840-d859|3|ergotherapeut|man/vrouw|18-64|ergotherapie\n",
      "7|Bijna volledig kunnen functioneren op het werk of tijdens het leren ondanks lichte problemen. |0.9|d840-d859|3|ergotherapeut|man/vrouw|18-64|ergotherapie\n",
      "8|Patiënt heeft geen beperkingen bij het voltooien van routinetaken. |0.8|d840-d859|3|ergotherapeut|man/vrouw|18-64|ergotherapie\n",
      "9|Lichte beperkingen van de patiënt hebben minimale invloed op de sociale interactie op het werk, studie of thuis. |0.9|d840-d859|3|ergotherapeut|man/vrouw|18-64|ergotherapie\n",
      "10|Patiënt kan bijna volledig functioneren in fysiek uitdagende situaties met lichte beperking. |0.7|d840-d859|3|ergotherapeut|man/vrouw|18-64|ergotherapie\n",
      "11|Lichte beperkingen van de patiënt hebben bijna geen invloed op de algemene stemming of het gevoel van welzijn. |0.8|d840-d859|3|ergotherapeut|man/vrouw|18-64|ergotherapie\n",
      "12|Patiënt kan bijna volledig functioneren, ondanks enige ongemakken of pijn die verband houdt met de ziekte. |0.6|d840-d859|3|ergotherapeut|man/vrouw|18-64|ergotherapie\n",
      "13|Patiënt ervaart weinig beperkingen tijdens het functioneren, ondanks enige cognitieve uitdagingen. |0.7|d840-d859|3|ergotherapeut|man/vrouw|18-64|ergotherapie\n",
      "14|Lichte beperkingen bij de patiënt hebben geen invloed op de kwaliteit van leven. |0.9|d840-d859|3|ergotherapeut|man/vrouw|18-64|ergotherapie\n",
      "15|Patiënt kan bijna volledig functioneren ondanks lichte beperkingen in hun dagelijkse activiteiten. |0.8|d840-d859|3|ergotherapeut|man/vrouw|18-64|ergotherapie\n",
      "\n"
     ]
    }
   ],
   "source": [
    "###### USE PROFILES FROM .CSV ######\n",
    "\n",
    "\n",
    "### USER DEFINED VARIABLES ###\n",
    "##########################################\n",
    "openai.api_key = 'xxx'\n",
    "\n",
    "cat_instrut = 'waarin het functioneren'\n",
    "cat_instruct2 = None\n",
    "icf_category = 'd840-d859'\n",
    "icf_level = 3\n",
    "icf_def = 'Bijna volledig kunnen werken of studeren, LICHTE beperking/ participatieprobleem (gering, laag)'\n",
    "persona = f\"2_{icf_category}_{icf_level}\"\n",
    "#persona = '2_b140_2'# NAME OF FILE - medical professional position - dietitian, gp, nurse, pediatrician, physical_therapist, physician\n",
    "num_notes = 15\n",
    "\n",
    "persona_file = f'../data/data_generation/persona/persona{persona}.csv'\n",
    "output_file = f'../data//data_generation/data_csv/data_{icf_category}_{icf_level}_{persona}.csv'\n",
    "\n",
    "### DEFINE MODEL TO USE ###\n",
    "MODEL = \"gpt-3.5-turbo\"\n",
    "##########################################\n",
    "\n",
    "\n",
    "# OPEN THE PERSONA PROFILE .CSV \n",
    "with open(persona_file, 'r') as infile:\n",
    "    persona_reader = csv.reader(infile, delimiter = ';')\n",
    "    for row in persona_reader:\n",
    "        gender, age_group, med_personnel, illness = row\n",
    "\n",
    "        # SET VALUE TO EACH VARIABLE\n",
    "        categorie = icf_category\n",
    "        niveau = icf_level\n",
    "        med_personeel = med_personnel\n",
    "        geslacht = gender\n",
    "        leeftijdsgroep = age_group\n",
    "        ziekte = illness\n",
    "        cat_subject = cat_instrut\n",
    "        \n",
    "        # PROMPT TO MODEL\n",
    "        system_content = f\"Jij bent een {med_personeel}. Het geslacht, de leeftijdsgroep en de ziekte van uw patiënten worden vermeld in Context. Je schrijft de door ziekte veroorzaakte aandoeningen van patiënten op in een beknopte stijl zonder uitwerking.\"\n",
    "\n",
    "        user_content =f''' \n",
    "        \"\"\"\n",
    "        ### Instruction ###\n",
    "        Schrijf alstublieft {num_notes} medische notities die {cat_subject} van de patiënt documenteren voor de ICF-categorie en het niveau gegeven in Context, vermijd het gebruik van de leeftijd van de patiënt. \n",
    "        Vermijd het veranderen van het geslacht, de leeftijdsgroep of de ziekte van de patiënt. Voeg voor elke noot een betrouwbaarheidsscore tussen 0 - 1 toe.\n",
    "        Gebruik niet elke keer 'Patiënt'.\n",
    "        {cat_instruct2}\n",
    "\n",
    "        ### Context ###\n",
    "        ICF categorie {categorie} niveau {niveau} - {icf_def}\n",
    "\n",
    "        ### Output format ###\n",
    "        Genereer zinnen in csv-formaat, in deze volgorde \"nootnummer|noten|confidence_score|{categorie}|{niveau}|{med_personeel}|{geslacht}|{leeftijdsgroep}|{ziekte}\", gebruik '|' in plaats van ','. \n",
    "        Voeg geen betrouwbaarheidsscore of andere informatie toe aan medische notities.\n",
    "        \"\"\" \n",
    "        '''\n",
    "\n",
    "        # ASK MODEL TO GENERATE OUTPUT\n",
    "        response = openai.ChatCompletion.create(\n",
    "            model=MODEL,\n",
    "            messages=[\n",
    "                {\"role\": \"system\", \"content\": system_content},\n",
    "                {\"role\": \"user\", \"content\": user_content},\n",
    "            ],\n",
    "            temperature= 0.95\n",
    "        )\n",
    "\n",
    "        # GET OUTPUT FROM MODEL\n",
    "        out_data = (response)['choices'][0]['message']['content']\n",
    "\n",
    "        final_data = f\"output for: {categorie}, {niveau}, {med_personeel}, {geslacht}, {leeftijdsgroep}, {ziekte}\\n{out_data}\\n\"\n",
    "        print(out_data)\n",
    "        print()\n",
    "\n",
    "        # WRITE OUTPUT TO FILE\n",
    "        destination = open(output_file , 'a+')\n",
    "        csvwriter = csv.writer(destination)\n",
    "        data_reader = csv.reader(final_data.splitlines(), skipinitialspace=True)\n",
    "        csvwriter.writerows(data_reader)\n",
    "        destination.flush()\n",
    "        destination.close()\n"
   ]
  },
  {
   "attachments": {},
   "cell_type": "markdown",
   "metadata": {},
   "source": [
    "## SYNTHETIC DATA GENERATION - USING 1 PROFILE ##"
   ]
  },
  {
   "cell_type": "code",
   "execution_count": 33,
   "metadata": {},
   "outputs": [
    {
     "name": "stdout",
     "output_type": "stream",
     "text": [
      "output for: d550, 0, verpleegster, man, 65-80, covid\n",
      "\n",
      "1| Sondevoeding is vereist voor voeding | 0.9 | d550 | 0 | verpleegster | man | COVID-19\n",
      "2| Patent krijgt via buisvoeding | 0.8 | d550 | 0 | verpleegster | vrouw | COVID-19\n",
      "3| Afhankelijk van Totale Parenterale Voeding (TPV) voor voeding | 0.7 | d550 | 0 | verpleegster | vrouw | COVID-19\n",
      "4| Er kan geen eten worden ingenomen; moet afhankelijk zijn van voedingstherapie | 0.8 | d550 | 0 | verpleegster | man | COVID-19\n",
      "5| HIV-patiënt ontvangt sondevoeding. | 0.6 | d550 | 0 | verpleegster | man | HIV\n",
      "6| De patiënt is afhankelijk van een buisvoeding-afvopt, omdat hij symptomen van anorexia heeft | 0.7 | d550 | 0 | verpleegster | vrouw | Anorexia\n",
      "7|De patiënt ondergaat chemotherapie en heeft buisvoeding nodig vanwege een geschiedenis van misselijkheid, braken en diarree | 0.6 | d550 | 0 | verpleegster | man | Chemotherapie\n",
      "8|De patiënt is op het moment niet in staat - om door de ALS- deze kan geen voedsel innemen maar is afhankelijk van sondevoeding | 0.9 | d550 | 0 | verpleegster | man | ALS\n",
      "9|Vanwege slikproblemen, patiënt afhankelijk is van sondevoeding; allergie voor talrijke voedingsmiddelen | 0.7 | d550 | 0 | verpleegster | vrouw | Slikproblemen\n",
      "10|Afhankelijk van een maagsonde, omdat de patiënt ALS heeft die hem heeft verhinderd om te slikken | 0.8 | d550 | 0 | verpleegster | man | ALS\n"
     ]
    }
   ],
   "source": [
    "###### GENERATE 1 PROFILE ######\n",
    "# DUTCH FINAL: USE CHATGPT PROMPT TO GENERATE DATA \n",
    "\n",
    "\n",
    "MODEL = \"gpt-3.5-turbo\"\n",
    "\n",
    "cat_instruct = 'het eetgedrag'\n",
    "cat_instruct2 = None\n",
    "icf_def = 'eten is niet mogelijk; EN/OF volledig afhankelijk van sondevoeding / TPV; VOLLEDIGE stoornis (totaal, ...)'\n",
    "categorie = 'd550' #icf_category\n",
    "niveau = 0 #icf_level\n",
    "med_personeel = 'verpleegster'\n",
    "geslacht = 'man'\n",
    "leeftijdsgroep = '65-80'\n",
    "ziekte = 'covid'\n",
    "\n",
    "# PROMPT TO MODEL\n",
    "system_content = f\"Jij bent een {med_personeel}. Het geslacht, de leeftijdsgroep en de ziekte van uw patiënten worden vermeld in Context. Je schrijft de door ziekte veroorzaakte aandoeningen van patiënten op in een beknopte stijl zonder uitwerking.\"\n",
    "\n",
    "user_content =f''' \n",
    "\"\"\"\n",
    "### Instruction ###\n",
    "Schrijf tien medische notities die {cat_instruct} van de patiënt documenteren voor de ICF-categorie en het niveau gegeven in Context, vermijd het gebruik van de leeftijd van de patiënt. Voeg voor elke noot een betrouwbaarheidsscore tussen 0 - 1 toe. Gebruik niet elke keer 'Patiënt'.\n",
    "{cat_instruct2}\n",
    "\n",
    "### Context ###\n",
    "ICF categorie {categorie} niveau {niveau} - {icf_def}\n",
    "\n",
    "### Output format ###\n",
    "Genereer zinnen in csv-formaat, in deze volgorde \"nootnummer|noten|confidence_score|{categorie}|{niveau}|{med_personeel}|{geslacht}|{leeftijdsgroep}|{ziekte}\", gebruik '|' in plaats van ','. \n",
    "\"\"\" \n",
    "'''\n",
    "\n",
    "# ### Examples ###\n",
    "# Geeft wisselend wel/niet antwoord op vragen.\n",
    "# Was wel wat rommelig. Viel tijdens handelingen in slaap.\n",
    "\n",
    "\n",
    "response = openai.ChatCompletion.create(\n",
    "    model=MODEL,\n",
    "    messages=[\n",
    "        {\"role\": \"system\", \"content\": system_content},\n",
    "        {\"role\": \"user\", \"content\": user_content},\n",
    "    ],\n",
    "    temperature=1.2\n",
    ")\n",
    "\n",
    "print(f\"output for: {categorie}, {niveau}, {med_personeel}, {geslacht}, {leeftijdsgroep}, {ziekte}\\n\")\n",
    "print((response)['choices'][0]['message']['content'])\n",
    "output_data = (response)['choices'][0]['message']['content']\n",
    "\n"
   ]
  }
 ],
 "metadata": {
  "kernelspec": {
   "display_name": "promptlecture",
   "language": "python",
   "name": "python3"
  },
  "language_info": {
   "codemirror_mode": {
    "name": "ipython",
    "version": 3
   },
   "file_extension": ".py",
   "mimetype": "text/x-python",
   "name": "python",
   "nbconvert_exporter": "python",
   "pygments_lexer": "ipython3",
   "version": "3.8.16"
  },
  "orig_nbformat": 4,
  "vscode": {
   "interpreter": {
    "hash": "f38e0373277d6f71ee44ee8fea5f1d408ad6999fda15d538a69a99a1665a839d"
   }
  }
 },
 "nbformat": 4,
 "nbformat_minor": 2
}
